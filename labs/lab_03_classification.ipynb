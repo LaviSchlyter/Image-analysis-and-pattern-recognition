{
 "cells": [
  {
   "cell_type": "markdown",
   "metadata": {},
   "source": [
    "# [IAPR][iapr]: Lab 3 ‒  Classification\n",
    "\n",
    "\n",
    "**Group ID:** 05\n",
    "\n",
    "**Author 1 (sciper):** Lavinia Schlyter (284566)\n",
    "**Author 2 (sciper):** Simon Gilgien (253797)  \n",
    "\n",
    "\n",
    "**Release date:** 07.04.2022\n",
    "**Due date:** 29.04.2022\n",
    "\n",
    "\n",
    "## Important notes\n",
    "\n",
    "The lab assignments are designed to teach practical implementation of the topics presented during class well as\n",
    "preparation for the final project, which is a practical project which ties together the topics of the course.\n",
    "\n",
    "As such, in the lab assignments/final project, unless otherwise specified, you may, if you choose, use external\n",
    "functions from image processing/ML libraries like opencv and sklearn as long as there is sufficient explanation\n",
    "in the lab report. For example, you do not need to implement your own edge detector, etc.\n",
    "\n",
    "**! Before handling back the notebook <font color='red'> rerun </font>the notebook from scratch !**\n",
    "`Kernel` > `Restart & Run All`\n",
    "\n",
    "We will not rerun the notebook for you.\n",
    "\n",
    "\n",
    "[iapr]: https://github.com/LTS5/iapr"
   ]
  },
  {
   "cell_type": "markdown",
   "metadata": {
    "tags": []
   },
   "source": [
    "## Extract relevant data\n",
    "We first need to extract the `lab-03-data.tar.gz` archive.\n",
    "To this end, we use the [tarfile] module from the Python standard library.\n",
    "\n",
    "[tarfile]: https://docs.python.org/3.6/library/tarfile.html"
   ]
  },
  {
   "cell_type": "code",
   "execution_count": 1,
   "metadata": {
    "tags": []
   },
   "outputs": [],
   "source": [
    "import tarfile\n",
    "import os\n",
    "\n",
    "data_base_path = os.path.join(os.pardir, 'data')\n",
    "data_folder = 'lab-03-data'\n",
    "tar_path = os.path.join(data_base_path, data_folder + '.tar.gz')\n",
    "with tarfile.open(tar_path, mode='r:gz') as tar:\n",
    "    tar.extractall(path=data_base_path)"
   ]
  },
  {
   "cell_type": "code",
   "execution_count": 2,
   "metadata": {},
   "outputs": [],
   "source": [
    "# Extra imports\n",
    "import itertools\n",
    "import math\n",
    "from matplotlib import pyplot as plt\n",
    "%matplotlib inline\n",
    "import numpy as np\n"
   ]
  },
  {
   "cell_type": "markdown",
   "metadata": {},
   "source": [
    "---\n",
    "## Part 1\n",
    "In this part, we will study classification based on the data available in the Matlab file `classification.mat` that you will under `lab-03-data/part1`.\n",
    "There are 3 data sets in this file, each one being a training set for a given class.\n",
    "They are contained in variables `a`, `b` and `c`.\n",
    "\n",
    "**Note**: we can load Matlab files using the [scipy.io] module.\n",
    "\n",
    "[scipy.io]: https://docs.scipy.org/doc/scipy/reference/io.html"
   ]
  },
  {
   "cell_type": "code",
   "execution_count": 3,
   "metadata": {},
   "outputs": [
    {
     "name": "stdout",
     "output_type": "stream",
     "text": [
      "(200, 2) (200, 2) (200, 2)\n"
     ]
    }
   ],
   "source": [
    "import scipy.io\n",
    "\n",
    "data_part1_path = os.path.join(data_base_path, data_folder, 'part1', 'classification.mat')\n",
    "matfile = scipy.io.loadmat(data_part1_path)\n",
    "a = matfile['a']\n",
    "b = matfile['b']\n",
    "c = matfile['c']\n",
    "\n",
    "print(a.shape, b.shape, c.shape)"
   ]
  },
  {
   "cell_type": "markdown",
   "metadata": {},
   "source": [
    "### Data visalisation\n",
    "Since each data point is 2-dimensional, an easy way to visalize it is to print a scatter plot of each data point with a different color for each class."
   ]
  },
  {
   "cell_type": "code",
   "execution_count": 4,
   "metadata": {},
   "outputs": [
    {
     "data": {
      "image/png": "[encoded data removed]",
      "text/plain": [
       "<Figure size 432x288 with 1 Axes>"
      ]
     },
     "metadata": {
      "needs_background": "light"
     },
     "output_type": "display_data"
    }
   ],
   "source": [
    "plt.scatter(a[:, 0], a[:, 1], label=\"a\")\n",
    "plt.scatter(b[:, 0], b[:, 1], label=\"b\")\n",
    "plt.scatter(c[:, 0], c[:, 1], label=\"c\")\n",
    "_ = plt.legend()"
   ]
  },
  {
   "cell_type": "markdown",
   "metadata": {},
   "source": [
    "### 1.1 Bayes method (5 pts)\n",
    "Using the Bayes method, give the expression of the separation curves between those three classes.\n",
    "Do reasonable hypotheses about the distributions of those classes and estimate the corresponding parameters based on the given training sets.\n",
    "Draw those curves on a plot, together with the training data. Note that you do not need to solve the analytical expression. You can simply evaluate the function for each point on the plane to end up with a segmentation map.\n",
    "For simplicity reasons, round the estimated parameters to the closest integer value."
   ]
  },
  {
   "cell_type": "markdown",
   "metadata": {},
   "source": [
    "Each data class is regrouped in one point cloud, with the density of points decreasing with the distance to the center of the cloud. Therefore it is reasonnable to approximate the distribution of each class by a 2D Gaussian distribution."
   ]
  },
  {
   "cell_type": "code",
   "execution_count": 5,
   "metadata": {},
   "outputs": [],
   "source": [
    "# Add your implementation and discussion\n",
    "def estimate_gaussian(training_data):\n",
    "    \"\"\"\"Given a training dataset of size (N, 2), estimate the parameters of a Gaussian distribution.\n",
    "    Returns a tuple containing the mean value vector and the covariance matrix\"\"\"\n",
    "    \n",
    "    mean = training_data.mean(axis=0)\n",
    "    \n",
    "    residuals = training_data - mean\n",
    "    \n",
    "    variations = residuals[:, :, None] @ residuals[:, None, :]\n",
    "    \n",
    "    # Compute the unbiased estimator of the covariance\n",
    "    covariance = variations.sum(axis=0) / (variations.shape[0] - 1)\n",
    "    \n",
    "    return mean, covariance\n",
    "\n",
    "gaussians = [estimate_gaussian(data) for data in (a, b, c)]\n",
    "\n",
    "def gaussian_probability(gaussian, sample):\n",
    "    \"\"\"Given the parameter of a gaussian and a sample, compute the probabilty P(sample | gaussian)\"\"\"\n",
    "    mean, covariance = gaussian\n",
    "    \n",
    "    residual = sample - mean\n",
    "    return np.exp(-0.5 * np.transpose(residual) @ np.linalg.inv(covariance) @ residual) / (2*math.pi * np.sqrt(np.linalg.det(covariance)))"
   ]
  },
  {
   "cell_type": "markdown",
   "metadata": {},
   "source": [
    "Since the prior probability is the same for all 3 classes, the probabilty of a given sample $x$ being in a class $w_i$ is proportional to the probability density of the distribution for the class $w_i$ at $x$: $P(w_i | x) \\propto P(x | w_i)$.\n",
    "\n",
    "We sample a region of the plane and compute the most probable class for each sample point."
   ]
  },
  {
   "cell_type": "code",
   "execution_count": 6,
   "metadata": {},
   "outputs": [
    {
     "data": {
      "image/png": "[encoded data removed]",
      "text/plain": [
       "<Figure size 432x288 with 1 Axes>"
      ]
     },
     "metadata": {
      "needs_background": "light"
     },
     "output_type": "display_data"
    }
   ],
   "source": [
    "samples_by_category = [[], [], []]\n",
    "segmentation_map = {}\n",
    "\n",
    "for x, y in itertools.product(np.linspace(-20, 20, 100), np.linspace(-10, 10, 50)):\n",
    "    sample = np.array([x, y])\n",
    "    probs = [gaussian_probability(gaussian, sample) for gaussian in gaussians]\n",
    "    \n",
    "    category = np.argmax(probs)\n",
    "    samples_by_category[category].append([x, y])\n",
    "    segmentation_map[x, y] = category\n",
    "\n",
    "labels = [\"a\", \"b\", \"c\"]\n",
    "\n",
    "for i in range(3):\n",
    "    # convert to numpy array to have easier indexing\n",
    "    samples_by_category[i] = np.array(samples_by_category[i])\n",
    "    plt.scatter(samples_by_category[i][:, 0], samples_by_category[i][:, 1], marker=\".\", label=labels[i])\n",
    "    \n",
    "_ = plt.legend()"
   ]
  },
  {
   "cell_type": "markdown",
   "metadata": {},
   "source": [
    "The separation curves between the regions are the points where the probability for two classes are equal: $P(w_i | x) = P(w_j | x)$, or equivalently $P(x | w_i) = P(x | w_j)$. Note that we are only interested in the portions of those curves where the probability for the third class is smaller than the two equal probabilities.\n",
    "\n",
    "Due to the fact that we use a Gaussian distribution, the separation curves are quadratic. Deriving the analytic formula is not easy, but we can approximate the curves by looking at points on the segmentation map where the predicted category changes."
   ]
  },
  {
   "cell_type": "code",
   "execution_count": 7,
   "metadata": {},
   "outputs": [
    {
     "data": {
      "image/png": "[encoded data removed]",
      "text/plain": [
       "<Figure size 432x288 with 1 Axes>"
      ]
     },
     "metadata": {
      "needs_background": "light"
     },
     "output_type": "display_data"
    }
   ],
   "source": [
    "curve_ab = []\n",
    "curve_bc = []\n",
    "curve_ac = []\n",
    "\n",
    "prev_x = None\n",
    "\n",
    "for x in np.linspace(-20, 20, 100):\n",
    "    \n",
    "    prev_y = None\n",
    "    \n",
    "    for y in np.linspace(-10, 10, 50):\n",
    "        category = segmentation_map[x, y]\n",
    "        categories = None\n",
    "        if segmentation_map.get((prev_x, y), category) != category:\n",
    "            categories = {category, segmentation_map[prev_x, y]}\n",
    "        if segmentation_map.get((x, prev_y), category) != category:\n",
    "            categories = {category, segmentation_map[x, prev_y]}\n",
    "\n",
    "        if categories == {0, 1}:\n",
    "            curve_ab.append([x, y])\n",
    "        elif categories == {1, 2}:\n",
    "            curve_bc.append([x, y])\n",
    "        elif categories == {0, 2}:\n",
    "            curve_ac.append([x, y])\n",
    "            \n",
    "        prev_y = y\n",
    "        \n",
    "    prev_x = x\n",
    "    \n",
    "    \n",
    "plt.scatter(a[:, 0], a[:, 1], label=\"a\")\n",
    "plt.scatter(b[:, 0], b[:, 1], label=\"b\")\n",
    "plt.scatter(c[:, 0], c[:, 1], label=\"c\")\n",
    "        \n",
    "for curve, label in zip([curve_ab, curve_bc, curve_ac], [\"AB\", \"BC\", \"AC\"]):\n",
    "    curve = np.array(curve)\n",
    "    plt.scatter(curve[:, 0], curve[:, 1], marker=\".\", label=label)\n",
    "\n",
    "_ = plt.legend()"
   ]
  },
  {
   "cell_type": "markdown",
   "metadata": {},
   "source": [
    "As we can see on the plot, the curves we find give a reasonable segmentation of the plane, and each curve is part of a quadratic curve."
   ]
  },
  {
   "cell_type": "markdown",
   "metadata": {},
   "source": [
    "### 1.2 Mahalanobis distance (5 pts)\n",
    "For classes `a` and `b`, give the expression of the Mahalanobis distance used to classify a point in class `a` or `b`, and verify the obtained classification, in comparison with the \"complete\" Bayes classification, for a few points of the plane."
   ]
  },
  {
   "cell_type": "code",
   "execution_count": 8,
   "metadata": {},
   "outputs": [],
   "source": [
    "# Add your implementation and discussion\n",
    "\n",
    "def mahalanobis_distance(gaussian, sample):\n",
    "    mean, covariance = gaussian\n",
    "\n",
    "    residual = sample - mean\n",
    "    return np.sqrt(np.transpose(residual) @ np.linalg.inv(covariance) @ residual)\n"
   ]
  },
  {
   "cell_type": "markdown",
   "metadata": {},
   "source": [
    "Given a Gaussian probability density function of mean $\\mu$ and covariance $\\Sigma$, the Mahalanobis distance of a sample $x$ to the Gaussian approximation is given by $$d = \\sqrt{(x - \\mu) \\Sigma^{-1} (x - \\mu)}$$\n",
    "\n",
    "If we expand and simplify this formula in the 2D case, we get, with $x = (x, y)$, $\\mu = (\\mu_1, \\mu_2)$ and\n",
    "$$\\Sigma^{-1} = \\begin{pmatrix}\\sigma_{00} & \\sigma_{01}\\\\ \\sigma_{01} & \\sigma_{11}\\end{pmatrix}$$\n",
    "\n",
    "$$d = \\sqrt{x^2 \\sigma_{00} + x (-2\\mu_0 \\sigma_{00} - 2\\mu_1\\sigma_{01}) + x y (2\\sigma_{01}) + y (-2\\mu_0 \\sigma_{01} -2 \\mu_1 \\sigma_{11}) + y^2 \\sigma_{11} + (\\mu_0^2 \\sigma_{00} + 2 \\mu_0 \\mu_1 \\sigma_{01} + \\mu_1^2 \\sigma_{11})} = \\sqrt{x^2 a + x b + x y c + y d + y^2 e + f}$$\n",
    "\n",
    "We can compute the coefficients $a$, $b$, $c$, $d$, $e$ and $f$ for the different gaussian functions:"
   ]
  },
  {
   "cell_type": "code",
   "execution_count": 9,
   "metadata": {},
   "outputs": [
    {
     "name": "stdout",
     "output_type": "stream",
     "text": [
      "(0.099929488488715, 0.04292591903508372, -0.03134191940245821, -0.0793615139922488, 1.1938886627649368, 0.00571671928200892)\n",
      "(0.09861563439173776, -0.45248439715418187, -0.03279371509965637, -5.558627959158717, 0.9252323003578354, 9.120721754750155)\n"
     ]
    }
   ],
   "source": [
    "def mahalanobis_coeffs(gaussian):\n",
    "    mean, covariance = gaussian\n",
    "    \n",
    "    sigma = np.linalg.inv(covariance)\n",
    "    \n",
    "    a = sigma[0, 0]\n",
    "    b = -2 * (mean[0]*sigma[0, 0] + mean[1]*sigma[0, 1])\n",
    "    c = 2*sigma[0, 1]\n",
    "    d = -2 * (mean[0]*sigma[0, 1] + mean[1]*sigma[1, 1])\n",
    "    e = sigma[1, 1]\n",
    "    f = np.transpose(mean) @ np.linalg.inv(covariance) @ mean\n",
    "    \n",
    "    return a, b, c, d, e, f\n",
    "\n",
    "print(mahalanobis_coeffs(gaussians[0]))\n",
    "print(mahalanobis_coeffs(gaussians[1]))"
   ]
  },
  {
   "cell_type": "markdown",
   "metadata": {},
   "source": [
    "We can compare segmentation maps obtained using the full Bayes classification and the Mahalanobis distance:"
   ]
  },
  {
   "cell_type": "code",
   "execution_count": 10,
   "metadata": {},
   "outputs": [
    {
     "data": {
      "image/png": "[encoded data removed]",
      "text/plain": [
       "<Figure size 1440x360 with 2 Axes>"
      ]
     },
     "metadata": {
      "needs_background": "light"
     },
     "output_type": "display_data"
    }
   ],
   "source": [
    "samples_by_category_mahalanobis = [[], [], []]\n",
    "\n",
    "for x, y in itertools.product(np.linspace(-20, 20, 100), np.linspace(-10, 10, 50)):\n",
    "    sample = np.array([x, y])\n",
    "    distances = [mahalanobis_distance(gaussian, sample) for gaussian in gaussians]\n",
    "    \n",
    "    category = np.argmin(distances)\n",
    "    samples_by_category_mahalanobis[category].append([x, y])\n",
    "\n",
    "labels = [\"a\", \"b\", \"c\"]\n",
    "\n",
    "\n",
    "plt.figure(figsize=(20, 5))\n",
    "plt.subplot(1, 2, 1)\n",
    "\n",
    "for i in range(3):\n",
    "    # convert to numpy array to have easier indexing\n",
    "    samples_by_category_mahalanobis[i] = np.array(samples_by_category[i])\n",
    "    plt.scatter(samples_by_category[i][:, 0], samples_by_category[i][:, 1], marker=\".\", label=labels[i])\n",
    "    \n",
    "plt.legend()\n",
    "plt.title(\"Mahalanobis distance\")\n",
    "plt.axis(\"equal\")\n",
    "\n",
    "plt.subplot(1, 2, 2)\n",
    "\n",
    "for i in range(3):\n",
    "    plt.scatter(samples_by_category[i][:, 0], samples_by_category[i][:, 1], marker=\".\", label=labels[i])\n",
    "    \n",
    "plt.legend()\n",
    "plt.title(\"Bayesian classification\")\n",
    "_ = plt.axis(\"equal\")"
   ]
  },
  {
   "cell_type": "markdown",
   "metadata": {},
   "source": [
    "We can also compare the figures for a few random points:"
   ]
  },
  {
   "cell_type": "code",
   "execution_count": 11,
   "metadata": {},
   "outputs": [
    {
     "name": "stdout",
     "output_type": "stream",
     "text": [
      "Point ( 13.777,  5.159): Probability a: 1.458e-12 < b: 2.376e-05 Distance a:  6.979 > b:  3.902\n",
      "Point (- 3.177, -4.822): Probability a: 3.492e-08 > b: 6.175e-15 Distance a:  5.342 < b:  7.705\n",
      "Point (  0.451, -1.901): Probability a: 5.676e-03 > b: 5.168e-07 Distance a:  2.131 < b:  4.783\n",
      "Point ( 11.352, -3.934): Probability a: 2.837e-09 > b: 7.610e-14 Distance a:  5.793 < b:  7.372\n",
      "Point (- 0.936,  1.668): Probability a: 1.060e-02 < b: 1.079e-02 Distance a:  1.814 > b:  1.728\n",
      "Point ( 16.325,  0.094): Probability a: 6.507e-08 > b: 5.252e-08 Distance a:  5.224 < b:  5.239\n",
      "Point (- 8.726,  5.116): Probability a: 1.466e-10 < b: 6.475e-06 Distance a:  6.284 > b:  4.222\n",
      "Point (  4.735, -4.990): Probability a: 3.207e-09 > b: 3.106e-15 Distance a:  5.772 < b:  7.793\n",
      "Point ( 16.390,  9.656): Probability a: 6.754e-31 < b: 4.064e-14 Distance a: 11.538 > b:  7.456\n",
      "Point ( 12.409,  8.043): Probability a: 2.125e-21 < b: 1.107e-08 Distance a:  9.455 > b:  5.529\n"
     ]
    }
   ],
   "source": [
    "import random\n",
    "\n",
    "random.seed(0)\n",
    "\n",
    "for i in range(10):\n",
    "    x = random.uniform(-20, 20)\n",
    "    y = random.uniform(-10, 10)\n",
    "    \n",
    "    sample = np.array([x, y])\n",
    "    \n",
    "    prob_a = gaussian_probability(gaussians[0], sample)\n",
    "    prob_b = gaussian_probability(gaussians[1], sample)\n",
    "    \n",
    "    dist_a = mahalanobis_distance(gaussians[0], sample)\n",
    "    dist_b = mahalanobis_distance(gaussians[1], sample)\n",
    "    \n",
    "    print(f\"Point ({x: =7.3f}, {y: =6.3f}): Probability a: {prob_a:.3e} {'>' if prob_a > prob_b else '<'} b: {prob_b:.3e} Distance a: {dist_a: >6.3f} {'>' if dist_a > dist_b else '<'} b: {dist_b: >6.3f}\")"
   ]
  },
  {
   "cell_type": "markdown",
   "metadata": {},
   "source": [
    "We can see that the Mahalanobis distance is always smaller for the class with the highest probability. In addition, the numbers involved cover a smaller range and are therefore less prone to floating-point inaccuracies. The Mahalanobis distance is also faster to compute than the full probability, so in practice it is easier to use it."
   ]
  },
  {
   "cell_type": "markdown",
   "metadata": {},
   "source": [
    "---\n",
    "\n",
    "## Part 2\n",
    "In this part, we aim to classify digits using the complete version of MNIST digits dataset.\n",
    "The dataset consists of 60'000 training images and 10'000 test images of handwritten digits.\n",
    "Each image has size 28x28, and has assigned a label from zero to nine, denoting the digits value.\n",
    "Given this data, your task is to construct a Multilayer Perceptron (MLP) for supervised training and classification and evaluate it on the test images.\n",
    "\n",
    "Download the MNIST dataset (all 4 files) from http://yann.lecun.com/exdb/mnist/ under `lab-03-data/part2`.\n",
    "You can then use the script provided below to extract and load training and testing images in Python. \n",
    "\n",
    "**! Warning**: When the lab was created the official MNIST repo was down, if it is still the case please use https://github.com/mkolod/MNIST."
   ]
  },
  {
   "cell_type": "markdown",
   "metadata": {},
   "source": [
    "### 2.1 Dataset loading\n",
    "Here we first declare the methods `extract_data` and `extract_labels` so that we can reuse them later in the code.\n",
    "Then we extract both the data and corresponding labels, and plot randomly some images and corresponding labels of the training set."
   ]
  },
  {
   "cell_type": "code",
   "execution_count": 12,
   "metadata": {},
   "outputs": [],
   "source": [
    "import gzip\n",
    "import numpy as np\n",
    "import matplotlib.pyplot as plt\n",
    "\n",
    "def extract_data(filename, image_shape, image_number):\n",
    "    with gzip.open(filename) as bytestream:\n",
    "        bytestream.read(16)\n",
    "        buf = bytestream.read(np.prod(image_shape) * image_number)\n",
    "        data = np.frombuffer(buf, dtype=np.uint8).astype(np.float32)\n",
    "        data = data.reshape(image_number, image_shape[0], image_shape[1])\n",
    "    return data\n",
    "\n",
    "\n",
    "def extract_labels(filename, image_number):\n",
    "    with gzip.open(filename) as bytestream:\n",
    "        bytestream.read(8)\n",
    "        buf = bytestream.read(1 * image_number)\n",
    "        labels = np.frombuffer(buf, dtype=np.uint8).astype(np.int64)\n",
    "    return labels"
   ]
  },
  {
   "cell_type": "code",
   "execution_count": 13,
   "metadata": {},
   "outputs": [
    {
     "ename": "FileNotFoundError",
     "evalue": "[Errno 2] No such file or directory: '../data/lab-03-data/part2/train-images-idx3-ubyte.gz'",
     "output_type": "error",
     "traceback": [
      "\u001b[0;31m---------------------------------------------------------------------------\u001b[0m",
      "\u001b[0;31mFileNotFoundError\u001b[0m                         Traceback (most recent call last)",
      "Input \u001b[0;32mIn [13]\u001b[0m, in \u001b[0;36m<cell line: 12>\u001b[0;34m()\u001b[0m\n\u001b[1;32m      9\u001b[0m test_images_path \u001b[38;5;241m=\u001b[39m os\u001b[38;5;241m.\u001b[39mpath\u001b[38;5;241m.\u001b[39mjoin(data_part2_folder, \u001b[38;5;124m'\u001b[39m\u001b[38;5;124mt10k-images-idx3-ubyte.gz\u001b[39m\u001b[38;5;124m'\u001b[39m)\n\u001b[1;32m     10\u001b[0m test_labels_path \u001b[38;5;241m=\u001b[39m os\u001b[38;5;241m.\u001b[39mpath\u001b[38;5;241m.\u001b[39mjoin(data_part2_folder, \u001b[38;5;124m'\u001b[39m\u001b[38;5;124mt10k-labels-idx1-ubyte.gz\u001b[39m\u001b[38;5;124m'\u001b[39m)\n\u001b[0;32m---> 12\u001b[0m train_images \u001b[38;5;241m=\u001b[39m \u001b[43mextract_data\u001b[49m\u001b[43m(\u001b[49m\u001b[43mtrain_images_path\u001b[49m\u001b[43m,\u001b[49m\u001b[43m \u001b[49m\u001b[43mimage_shape\u001b[49m\u001b[43m,\u001b[49m\u001b[43m \u001b[49m\u001b[43mtrain_set_size\u001b[49m\u001b[43m)\u001b[49m\n\u001b[1;32m     13\u001b[0m test_images \u001b[38;5;241m=\u001b[39m extract_data(test_images_path, image_shape, test_set_size)\n\u001b[1;32m     14\u001b[0m train_labels \u001b[38;5;241m=\u001b[39m extract_labels(train_labels_path, train_set_size)\n",
      "Input \u001b[0;32mIn [12]\u001b[0m, in \u001b[0;36mextract_data\u001b[0;34m(filename, image_shape, image_number)\u001b[0m\n\u001b[1;32m      5\u001b[0m \u001b[38;5;28;01mdef\u001b[39;00m \u001b[38;5;21mextract_data\u001b[39m(filename, image_shape, image_number):\n\u001b[0;32m----> 6\u001b[0m     \u001b[38;5;28;01mwith\u001b[39;00m \u001b[43mgzip\u001b[49m\u001b[38;5;241;43m.\u001b[39;49m\u001b[43mopen\u001b[49m\u001b[43m(\u001b[49m\u001b[43mfilename\u001b[49m\u001b[43m)\u001b[49m \u001b[38;5;28;01mas\u001b[39;00m bytestream:\n\u001b[1;32m      7\u001b[0m         bytestream\u001b[38;5;241m.\u001b[39mread(\u001b[38;5;241m16\u001b[39m)\n\u001b[1;32m      8\u001b[0m         buf \u001b[38;5;241m=\u001b[39m bytestream\u001b[38;5;241m.\u001b[39mread(np\u001b[38;5;241m.\u001b[39mprod(image_shape) \u001b[38;5;241m*\u001b[39m image_number)\n",
      "File \u001b[0;32m/usr/lib/python3.10/gzip.py:58\u001b[0m, in \u001b[0;36mopen\u001b[0;34m(filename, mode, compresslevel, encoding, errors, newline)\u001b[0m\n\u001b[1;32m     56\u001b[0m gz_mode \u001b[38;5;241m=\u001b[39m mode\u001b[38;5;241m.\u001b[39mreplace(\u001b[38;5;124m\"\u001b[39m\u001b[38;5;124mt\u001b[39m\u001b[38;5;124m\"\u001b[39m, \u001b[38;5;124m\"\u001b[39m\u001b[38;5;124m\"\u001b[39m)\n\u001b[1;32m     57\u001b[0m \u001b[38;5;28;01mif\u001b[39;00m \u001b[38;5;28misinstance\u001b[39m(filename, (\u001b[38;5;28mstr\u001b[39m, \u001b[38;5;28mbytes\u001b[39m, os\u001b[38;5;241m.\u001b[39mPathLike)):\n\u001b[0;32m---> 58\u001b[0m     binary_file \u001b[38;5;241m=\u001b[39m \u001b[43mGzipFile\u001b[49m\u001b[43m(\u001b[49m\u001b[43mfilename\u001b[49m\u001b[43m,\u001b[49m\u001b[43m \u001b[49m\u001b[43mgz_mode\u001b[49m\u001b[43m,\u001b[49m\u001b[43m \u001b[49m\u001b[43mcompresslevel\u001b[49m\u001b[43m)\u001b[49m\n\u001b[1;32m     59\u001b[0m \u001b[38;5;28;01melif\u001b[39;00m \u001b[38;5;28mhasattr\u001b[39m(filename, \u001b[38;5;124m\"\u001b[39m\u001b[38;5;124mread\u001b[39m\u001b[38;5;124m\"\u001b[39m) \u001b[38;5;129;01mor\u001b[39;00m \u001b[38;5;28mhasattr\u001b[39m(filename, \u001b[38;5;124m\"\u001b[39m\u001b[38;5;124mwrite\u001b[39m\u001b[38;5;124m\"\u001b[39m):\n\u001b[1;32m     60\u001b[0m     binary_file \u001b[38;5;241m=\u001b[39m GzipFile(\u001b[38;5;28;01mNone\u001b[39;00m, gz_mode, compresslevel, filename)\n",
      "File \u001b[0;32m/usr/lib/python3.10/gzip.py:174\u001b[0m, in \u001b[0;36mGzipFile.__init__\u001b[0;34m(self, filename, mode, compresslevel, fileobj, mtime)\u001b[0m\n\u001b[1;32m    172\u001b[0m     mode \u001b[38;5;241m+\u001b[39m\u001b[38;5;241m=\u001b[39m \u001b[38;5;124m'\u001b[39m\u001b[38;5;124mb\u001b[39m\u001b[38;5;124m'\u001b[39m\n\u001b[1;32m    173\u001b[0m \u001b[38;5;28;01mif\u001b[39;00m fileobj \u001b[38;5;129;01mis\u001b[39;00m \u001b[38;5;28;01mNone\u001b[39;00m:\n\u001b[0;32m--> 174\u001b[0m     fileobj \u001b[38;5;241m=\u001b[39m \u001b[38;5;28mself\u001b[39m\u001b[38;5;241m.\u001b[39mmyfileobj \u001b[38;5;241m=\u001b[39m \u001b[43mbuiltins\u001b[49m\u001b[38;5;241;43m.\u001b[39;49m\u001b[43mopen\u001b[49m\u001b[43m(\u001b[49m\u001b[43mfilename\u001b[49m\u001b[43m,\u001b[49m\u001b[43m \u001b[49m\u001b[43mmode\u001b[49m\u001b[43m \u001b[49m\u001b[38;5;129;43;01mor\u001b[39;49;00m\u001b[43m \u001b[49m\u001b[38;5;124;43m'\u001b[39;49m\u001b[38;5;124;43mrb\u001b[39;49m\u001b[38;5;124;43m'\u001b[39;49m\u001b[43m)\u001b[49m\n\u001b[1;32m    175\u001b[0m \u001b[38;5;28;01mif\u001b[39;00m filename \u001b[38;5;129;01mis\u001b[39;00m \u001b[38;5;28;01mNone\u001b[39;00m:\n\u001b[1;32m    176\u001b[0m     filename \u001b[38;5;241m=\u001b[39m \u001b[38;5;28mgetattr\u001b[39m(fileobj, \u001b[38;5;124m'\u001b[39m\u001b[38;5;124mname\u001b[39m\u001b[38;5;124m'\u001b[39m, \u001b[38;5;124m'\u001b[39m\u001b[38;5;124m'\u001b[39m)\n",
      "\u001b[0;31mFileNotFoundError\u001b[0m: [Errno 2] No such file or directory: '../data/lab-03-data/part2/train-images-idx3-ubyte.gz'"
     ]
    }
   ],
   "source": [
    "image_shape = (28, 28)\n",
    "train_set_size = 60000\n",
    "test_set_size = 10000\n",
    "\n",
    "data_part2_folder = os.path.join(data_base_path, data_folder, 'part2')\n",
    "\n",
    "train_images_path = os.path.join(data_part2_folder, 'train-images-idx3-ubyte.gz')\n",
    "train_labels_path = os.path.join(data_part2_folder, 'train-labels-idx1-ubyte.gz')\n",
    "test_images_path = os.path.join(data_part2_folder, 't10k-images-idx3-ubyte.gz')\n",
    "test_labels_path = os.path.join(data_part2_folder, 't10k-labels-idx1-ubyte.gz')\n",
    "\n",
    "train_images = extract_data(train_images_path, image_shape, train_set_size)\n",
    "test_images = extract_data(test_images_path, image_shape, test_set_size)\n",
    "train_labels = extract_labels(train_labels_path, train_set_size)\n",
    "test_labels = extract_labels(test_labels_path, test_set_size)"
   ]
  },
  {
   "cell_type": "code",
   "execution_count": null,
   "metadata": {},
   "outputs": [],
   "source": [
    "prng = np.random.RandomState(seed=123456789)  # seed to always re-draw the same distribution\n",
    "plt_ind = prng.randint(low=0, high=train_set_size, size=10)\n",
    "\n",
    "fig, axes = plt.subplots(1, 10, figsize=(12, 3))\n",
    "for ax, im, lb in zip(axes, train_images[plt_ind], train_labels[plt_ind]):\n",
    "    ax.imshow(im, cmap='gray')\n",
    "    ax.axis('off')\n",
    "    ax.set_title(lb)"
   ]
  },
  {
   "cell_type": "markdown",
   "metadata": {},
   "source": [
    "### 2.2 MLP (10 pts)\n",
    "\n",
    "To create an MLP you are free to choose any library.\n",
    "In case you don't have any preferences, we encourage you to use the [scikit-learn] package; it is a simple, efficient and free tool for data analysis and machine learning.\n",
    "In this [link][sklearn-example], you can find a basic example to see how to create and train an MLP using [scikit-learn].\n",
    "Your network should have the following properties:\n",
    "* Input `x`: 784-dimensional (i.e. 784 visible units representing the flattened 28x28 pixel images).\n",
    "* 100 hidden units `h`.\n",
    "* 10 output units `y`, i.e. the labels, with a value close to one in the i-th class representing a high probability of the input representing the digit `i`.\n",
    "\n",
    "If you need additional examples you can borrow some code from image classification tutorials.\n",
    "However, we recommend that you construct a minimal version of the network on your own to gain better insights.\n",
    "\n",
    "[scikit-learn]: http://scikit-learn.org/stable/index.html\n",
    "[sklearn-example]: http://scikit-learn.org/stable/modules/neural_networks_supervised.html"
   ]
  },
  {
   "cell_type": "code",
   "execution_count": null,
   "metadata": {},
   "outputs": [],
   "source": [
    "from sklearn.neural_network import MLPClassifier\n",
    "from sklearn.preprocessing import StandardScaler  \n",
    "from sklearn.metrics import classification_report\n",
    "from sklearn.model_selection import GridSearchCV,RandomizedSearchCV\n",
    "from sklearn.pipeline import Pipeline\n",
    "from sklearn.metrics import accuracy_score"
   ]
  },
  {
   "cell_type": "code",
   "execution_count": null,
   "metadata": {},
   "outputs": [],
   "source": [
    "X_train = train_images.copy()\n",
    "X_test = test_images.copy()\n",
    "\n",
    "X_train = X_train.reshape(np.shape(X_train)[0], -1)\n",
    "X_test = X_test.reshape(np.shape(X_test)[0],-1)\n",
    "y_train = train_labels.copy()\n",
    "y_test = test_labels.copy()"
   ]
  },
  {
   "cell_type": "code",
   "execution_count": null,
   "metadata": {},
   "outputs": [],
   "source": [
    "sc = StandardScaler()\n",
    "X_train = sc.fit_transform(X_train)\n",
    "# Careful ! Use train fit scalar on test\n",
    "X_test = sc.transform (X_test)"
   ]
  },
  {
   "cell_type": "markdown",
   "metadata": {},
   "source": [
    "Please note that due to time/computational constraints, hyper-parameters were not tuned.\n",
    "\n",
    "Several solvers were tested, including:\n",
    "- **adam**: Gradient-based optimization of stochastic objective functions, based on adaptive estimates of lower-order moments\n",
    "- **lbfgs**: limited memory quasi-Newton optimization \n",
    "- **sgd**: Stochastic gradient descent"
   ]
  },
  {
   "cell_type": "code",
   "execution_count": null,
   "metadata": {},
   "outputs": [],
   "source": [
    "# Solver = Adam \n",
    "mlp_adam = MLPClassifier(hidden_layer_sizes=(100,), alpha=0.0001, solver= 'adam', random_state=999)\n",
    "mlp_adam.fit(X_train, y_train)"
   ]
  },
  {
   "cell_type": "code",
   "execution_count": null,
   "metadata": {},
   "outputs": [],
   "source": [
    "\n",
    "print(f\"ADAM: Training accuracy score: {accuracy_score(mlp_adam.predict(X_train), y_train)}\")\n",
    "print(f\"ADAM: Test accuracy score: {accuracy_score(mlp_adam.predict(X_test), y_test)}\")\n"
   ]
  },
  {
   "cell_type": "code",
   "execution_count": null,
   "metadata": {},
   "outputs": [],
   "source": [
    "# Solver = lbfgs\n",
    "mlp_lbfgs = MLPClassifier(hidden_layer_sizes=(100,), alpha=0.0001, solver= 'lbfgs', random_state=999)\n",
    "mlp_lbfgs.fit(X_train, y_train)"
   ]
  },
  {
   "cell_type": "code",
   "execution_count": null,
   "metadata": {},
   "outputs": [],
   "source": [
    "\n",
    "print(f\"LBFGS: Training accuracy score: {accuracy_score(mlp_lbfgs.predict(X_train), y_train)}\")\n",
    "print(f\"LBFGS: Test accuracy score: {accuracy_score(mlp_lbfgs.predict(X_test), y_test)}\")\n"
   ]
  },
  {
   "cell_type": "code",
   "execution_count": null,
   "metadata": {},
   "outputs": [],
   "source": [
    "# Solver = sgd\n",
    "mlp_sgd = MLPClassifier(hidden_layer_sizes=(100,), alpha=0.0001, solver= 'sgd', random_state=999)\n",
    "mlp_sgd.fit(X_train, y_train)"
   ]
  },
  {
   "cell_type": "code",
   "execution_count": null,
   "metadata": {},
   "outputs": [],
   "source": [
    "\n",
    "print(f\"SGD: Training accuracy score: {accuracy_score(mlp_sgd.predict(X_train), y_train)}\")\n",
    "print(f\"SGD: Test accuracy score: {accuracy_score(mlp_sgd.predict(X_test), y_test)}\")\n"
   ]
  },
  {
   "cell_type": "markdown",
   "metadata": {},
   "source": [
    "All three solvers perform with an accuracy around 97% on the test set. The training scores above as it is the dataset on which the network is trained. Note that we have signs of overfitting with accuarcy that reach 100% for the LBFGS solver. \n",
    "\n",
    "\n",
    "### Where does the network innacurately perform \n",
    "\n",
    "Using the optimizer which performed best on the test set (in this instance), we take a deeper look into which digits were missclassified\n"
   ]
  },
  {
   "cell_type": "code",
   "execution_count": null,
   "metadata": {},
   "outputs": [],
   "source": [
    "# Wrongly classified images\n",
    "import random\n",
    "\n",
    "random.seed(999)\n",
    "# Wrongly classified test set indexes\n",
    "missclass_image_id = np.where(mlp_sgd.predict(X_test)!= y_test)[0]\n",
    "# Pick 10 random images id of the wrongly classified ones\n",
    "random_10_wrong = random.choices(missclass_image_id, k = 10)"
   ]
  },
  {
   "cell_type": "code",
   "execution_count": null,
   "metadata": {},
   "outputs": [],
   "source": [
    "# Compute the probabilities of the wrongly classified images \n",
    "random_10_proba = mlp_sgd.predict_proba(X_test)[random_10_wrong]"
   ]
  },
  {
   "cell_type": "code",
   "execution_count": null,
   "metadata": {},
   "outputs": [],
   "source": [
    "fig, axs = plt.subplots(2, 10, figsize=(32,6))\n",
    "ax = axs.ravel()\n",
    "\n",
    "\n",
    "for ind, image_id in enumerate(random_10_wrong):\n",
    "    ax[2*ind].imshow(test_images[image_id].reshape(28,28), cmap='gray') # Print initial image\n",
    "    ax[2*ind].axis('off')\n",
    "    ax[2*ind].set_title(f\"True: {y_test[image_id]}, Pred: {mlp_sgd.predict(X_test)[image_id]}\")\n",
    "    \n",
    "    width = 0.5\n",
    "    x_digits = np.arange(len(random_10_proba[0]))\n",
    "    ax[2*ind+1].barh(x_digits,random_10_proba[ind], width)\n",
    "    ax[2*ind+1].set_yticks(x_digits)\n",
    "    ax[2*ind+1].set_yticklabels(x_digits)\n",
    "    ax[2*ind+1].set_xlim(0,1)\n",
    "\n",
    "plt.show()\n",
    "    "
   ]
  },
  {
   "cell_type": "markdown",
   "metadata": {},
   "source": [
    "In the figure above, we look at the test digits in its initial state as well as the prediction probability vector. In the title we have the true label as well as the predicted one through the network.\n",
    "\n",
    "We note that some digits that to the eye seem obvious such as the top left-most zero is not a seven nor is it a three.\n",
    "Others such as the bottom right-most corner is predicted as seven with the highest probability with a human eye probability estiamted the same result. \n",
    "\n",
    "The network is not perfect but on top of its 97% accuarcy on the test set remains rather impressive. In order to increase this accuracy one should tune the hyper-parameters, proceed with some additional feature engineering as well as increase the network size. \n"
   ]
  },
  {
   "cell_type": "markdown",
   "metadata": {},
   "source": [
    "#### Extra \n",
    "If more time could be used to run the notebook, one could use GridSearchCV in order to tune the hyperparameters for a possibly better result \n",
    "\n"
   ]
  },
  {
   "cell_type": "code",
   "execution_count": null,
   "metadata": {},
   "outputs": [],
   "source": [
    "RUN_extra = False\n",
    "\n",
    "if RUN_extra:\n",
    "\n",
    "    mlp = MLPClassifier(hidden_layer_sizes = (100,))\n",
    "    parameter_mlp = {\n",
    "        \"mlp__activation\": [\"logistic\",\"tanh\", \"relu\"],\n",
    "        \"mlp__solver\": [\"sgd\", \"adam\", \"lbfgs\"],\n",
    "        \"mlp__alpha\": 10.0**(-np.arange(1, 7))\n",
    "    }\n",
    "\n",
    "    # Define a Standard Scaler to normalize inputs\n",
    "    scaler = StandardScaler()\n",
    "    pipe = Pipeline(steps=[(\"scaler\", scaler), (\"mlp\", mlp)])\n",
    "    clf = RandomizedSearchCV(pipe, parameter_mlp, n_jobs=1, cv=2, verbose = 1)\n",
    "    clf.fit(X_train, y_train)\n",
    "\n",
    "\n",
    "\n",
    "    print('Best parameters found:\\n', clf.best_params_)\n",
    "    means = clf.cv_results_['mean_test_score']\n",
    "    stds = clf.cv_results_['std_test_score']\n",
    "    for mean, std, params in zip(means, stds, clf.cv_results_['params']):\n",
    "        print(\"%0.3f (+/-%0.03f) for %r\" % (mean, std * 2, params))\n",
    "\n",
    "    y_test_pred = clf.predict_proba(y_test)   \n",
    "    print(classification_report(y_test, y_test_pred))"
   ]
  },
  {
   "cell_type": "code",
   "execution_count": null,
   "metadata": {},
   "outputs": [],
   "source": []
  }
 ],
 "metadata": {
  "kernelspec": {
   "display_name": "iapr",
   "language": "python",
   "name": "iapr"
  },
  "language_info": {
   "codemirror_mode": {
    "name": "ipython",
    "version": 3
   },
   "file_extension": ".py",
   "mimetype": "text/x-python",
   "name": "python",
   "nbconvert_exporter": "python",
   "pygments_lexer": "ipython3",
   "version": "3.10.4"
  }
 },
 "nbformat": 4,
 "nbformat_minor": 4
}
