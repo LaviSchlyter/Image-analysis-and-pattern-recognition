{
 "cells": [
  {
   "cell_type": "markdown",
   "metadata": {},
   "source": [
    "# [IAPR][iapr]: Lab 3 ‒  Classification\n",
    "\n",
    "\n",
    "**Group ID:** 05\n",
    "\n",
    "**Author 1 (sciper):** Lavinia Schlyter (284566)\n",
    "**Author 2 (sciper):** Simon Gilgien (253797)  \n",
    "\n",
    "\n",
    "**Release date:** 07.04.2022\n",
    "**Due date:** 29.04.2022\n",
    "\n",
    "\n",
    "## Important notes\n",
    "\n",
    "The lab assignments are designed to teach practical implementation of the topics presented during class well as\n",
    "preparation for the final project, which is a practical project which ties together the topics of the course.\n",
    "\n",
    "As such, in the lab assignments/final project, unless otherwise specified, you may, if you choose, use external\n",
    "functions from image processing/ML libraries like opencv and sklearn as long as there is sufficient explanation\n",
    "in the lab report. For example, you do not need to implement your own edge detector, etc.\n",
    "\n",
    "**! Before handling back the notebook <font color='red'> rerun </font>the notebook from scratch !**\n",
    "`Kernel` > `Restart & Run All`\n",
    "\n",
    "We will not rerun the notebook for you.\n",
    "\n",
    "\n",
    "[iapr]: https://github.com/LTS5/iapr"
   ]
  },
  {
   "cell_type": "markdown",
   "metadata": {
    "tags": []
   },
   "source": [
    "## Extract relevant data\n",
    "We first need to extract the `lab-03-data.tar.gz` archive.\n",
    "To this end, we use the [tarfile] module from the Python standard library.\n",
    "\n",
    "[tarfile]: https://docs.python.org/3.6/library/tarfile.html"
   ]
  },
  {
   "cell_type": "code",
   "execution_count": 1,
   "metadata": {
    "tags": []
   },
   "outputs": [],
   "source": [
    "import tarfile\n",
    "import os\n",
    "\n",
    "data_base_path = os.path.join(os.pardir, 'data')\n",
    "data_folder = 'lab-03-data'\n",
    "tar_path = os.path.join(data_base_path, data_folder + '.tar.gz')\n",
    "with tarfile.open(tar_path, mode='r:gz') as tar:\n",
    "    tar.extractall(path=data_base_path)"
   ]
  },
  {
   "cell_type": "code",
   "execution_count": 2,
   "metadata": {},
   "outputs": [],
   "source": [
    "# Extra imports\n",
    "import itertools\n",
    "import math\n",
    "from matplotlib import pyplot as plt\n",
    "%matplotlib inline\n",
    "import numpy as np\n"
   ]
  },
  {
   "cell_type": "markdown",
   "metadata": {},
   "source": [
    "---\n",
    "## Part 1\n",
    "In this part, we will study classification based on the data available in the Matlab file `classification.mat` that you will under `lab-03-data/part1`.\n",
    "There are 3 data sets in this file, each one being a training set for a given class.\n",
    "They are contained in variables `a`, `b` and `c`.\n",
    "\n",
    "**Note**: we can load Matlab files using the [scipy.io] module.\n",
    "\n",
    "[scipy.io]: https://docs.scipy.org/doc/scipy/reference/io.html"
   ]
  },
  {
   "cell_type": "code",
   "execution_count": 3,
   "metadata": {},
   "outputs": [
    {
     "name": "stdout",
     "output_type": "stream",
     "text": [
      "(200, 2) (200, 2) (200, 2)\n"
     ]
    }
   ],
   "source": [
    "import scipy.io\n",
    "\n",
    "data_part1_path = os.path.join(data_base_path, data_folder, 'part1', 'classification.mat')\n",
    "matfile = scipy.io.loadmat(data_part1_path)\n",
    "a = matfile['a']\n",
    "b = matfile['b']\n",
    "c = matfile['c']\n",
    "\n",
    "print(a.shape, b.shape, c.shape)"
   ]
  },
  {
   "cell_type": "markdown",
   "metadata": {},
   "source": [
    "### Data visalisation\n",
    "Since each data point is 2-dimensional, an easy way to visalize it is to print a scatter plot of each data point with a different color for each class."
   ]
  },
  {
   "cell_type": "code",
   "execution_count": 4,
   "metadata": {},
   "outputs": [
    {
     "data": {
      "image/png": "[encoded data removed]",
      "text/plain": [
       "<Figure size 432x288 with 1 Axes>"
      ]
     },
     "metadata": {
      "needs_background": "light"
     },
     "output_type": "display_data"
    }
   ],
   "source": [
    "plt.scatter(a[:, 0], a[:, 1], label=\"a\")\n",
    "plt.scatter(b[:, 0], b[:, 1], label=\"b\")\n",
    "plt.scatter(c[:, 0], c[:, 1], label=\"c\")\n",
    "_ = plt.legend()"
   ]
  },
  {
   "cell_type": "markdown",
   "metadata": {},
   "source": [
    "### 1.1 Bayes method (5 pts)\n",
    "Using the Bayes method, give the expression of the separation curves between those three classes.\n",
    "Do reasonable hypotheses about the distributions of those classes and estimate the corresponding parameters based on the given training sets.\n",
    "Draw those curves on a plot, together with the training data. Note that you do not need to solve the analytical expression. You can simply evaluate the function for each point on the plane to end up with a segmentation map.\n",
    "For simplicity reasons, round the estimated parameters to the closest integer value."
   ]
  },
  {
   "cell_type": "markdown",
   "metadata": {},
   "source": [
    "Each data class is regrouped in one point cloud, with the density of points decreasing with the distance to the center of the cloud. Therefore it is reasonnable to approximate the distribution of each class by a 2D Gaussian distribution."
   ]
  },
  {
   "cell_type": "code",
   "execution_count": 5,
   "metadata": {},
   "outputs": [],
   "source": [
    "# Add your implementation and discussion\n",
    "def estimate_gaussian(training_data):\n",
    "    \"\"\"\"Given a training dataset of size (N, 2), estimate the parameters of a Gaussian distribution.\n",
    "    Returns a tuple containing the mean value vector and the covariance matrix\"\"\"\n",
    "    \n",
    "    mean = training_data.mean(axis=0)\n",
    "    \n",
    "    residuals = training_data - mean\n",
    "    \n",
    "    variations = residuals[:, :, None] @ residuals[:, None, :]\n",
    "    \n",
    "    # Compute the unbiased estimator of the covariance\n",
    "    covariance = variations.sum(axis=0) / (variations.shape[0] - 1)\n",
    "    \n",
    "    return mean, covariance\n",
    "\n",
    "gaussians = [estimate_gaussian(data) for data in (a, b, c)]\n",
    "\n",
    "def gaussian_probability(gaussian, sample):\n",
    "    \"\"\"Given the parameter of a gaussian and a sample, compute the probabilty P(sample | gaussian)\"\"\"\n",
    "    mean, covariance = gaussian\n",
    "    \n",
    "    residual = sample - mean\n",
    "    return np.exp(-0.5 * np.transpose(residual) @ np.linalg.inv(covariance) @ residual) / (2*math.pi * np.sqrt(np.linalg.det(covariance)))"
   ]
  },
  {
   "cell_type": "markdown",
   "metadata": {},
   "source": [
    "Since the prior probability is the same for all 3 classes, the probabilty of a given sample $x$ being in a class $w_i$ is proportional to the probability density of the distribution for the class $w_i$ at $x$: $P(w_i | x) \\propto P(x | w_i)$.\n",
    "\n",
    "We sample a region of the plane and compute the most probable class for each sample point."
   ]
  },
  {
   "cell_type": "code",
   "execution_count": 10,
   "metadata": {},
   "outputs": [
    {
     "data": {
      "image/png": "[encoded data removed]",
      "text/plain": [
       "<Figure size 432x288 with 1 Axes>"
      ]
     },
     "metadata": {
      "needs_background": "light"
     },
     "output_type": "display_data"
    }
   ],
   "source": [
    "samples_by_category = [[], [], []]\n",
    "segmentation_map = {}\n",
    "\n",
    "for x, y in itertools.product(np.linspace(-20, 20, 100), np.linspace(-10, 10, 50)):\n",
    "    sample = np.array([x, y])\n",
    "    probs = [gaussian_probability(gaussian, sample) for gaussian in gaussians]\n",
    "    \n",
    "    category = np.argmax(probs)\n",
    "    samples_by_category[category].append([x, y])\n",
    "    segmentation_map[x, y] = category\n",
    "\n",
    "labels = [\"a\", \"b\", \"c\"]\n",
    "\n",
    "for i in range(3):\n",
    "    # convert to numpy array to have easier indexing\n",
    "    samples_by_category[i] = np.array(samples_by_category[i])\n",
    "    plt.scatter(samples_by_category[i][:, 0], samples_by_category[i][:, 1], marker=\".\", label=labels[i])\n",
    "    \n",
    "_ = plt.legend()"
   ]
  },
  {
   "cell_type": "markdown",
   "metadata": {},
   "source": [
    "The separation curves between the regions are the points where the probability for two classes are equal: $P(w_i | x) = P(w_j | x)$, or equivalently $P(x | w_i) = P(x | w_j)$. Note that we are only interested in the portions of those curves where the probability for the third class is smaller than the two equal probabilities.\n",
    "\n",
    "Due to the fact that we use a Gaussian distribution, the separation curves are quadratic. Deriving the analytic formula is not easy, but we can approximate the curves by looking at points on the segmentation map where the predicted category changes."
   ]
  },
  {
   "cell_type": "code",
   "execution_count": 22,
   "metadata": {},
   "outputs": [
    {
     "data": {
      "image/png": "[encoded data removed]",
      "text/plain": [
       "<Figure size 432x288 with 1 Axes>"
      ]
     },
     "metadata": {
      "needs_background": "light"
     },
     "output_type": "display_data"
    }
   ],
   "source": [
    "curve_ab = []\n",
    "curve_bc = []\n",
    "curve_ac = []\n",
    "\n",
    "prev_x = None\n",
    "\n",
    "for x in np.linspace(-20, 20, 100):\n",
    "    \n",
    "    prev_y = None\n",
    "    \n",
    "    for y in np.linspace(-10, 10, 50):\n",
    "        category = segmentation_map[x, y]\n",
    "        categories = None\n",
    "        if segmentation_map.get((prev_x, y), category) != category:\n",
    "            categories = {category, segmentation_map[prev_x, y]}\n",
    "        if segmentation_map.get((x, prev_y), category) != category:\n",
    "            categories = {category, segmentation_map[x, prev_y]}\n",
    "\n",
    "        if categories == {0, 1}:\n",
    "            curve_ab.append([x, y])\n",
    "        elif categories == {1, 2}:\n",
    "            curve_bc.append([x, y])\n",
    "        elif categories == {0, 2}:\n",
    "            curve_ac.append([x, y])\n",
    "            \n",
    "        prev_y = y\n",
    "        \n",
    "    prev_x = x\n",
    "    \n",
    "    \n",
    "plt.scatter(a[:, 0], a[:, 1], label=\"a\")\n",
    "plt.scatter(b[:, 0], b[:, 1], label=\"b\")\n",
    "plt.scatter(c[:, 0], c[:, 1], label=\"c\")\n",
    "        \n",
    "for curve, label in zip([curve_ab, curve_bc, curve_ac], [\"AB\", \"BC\", \"AC\"]):\n",
    "    curve = np.array(curve)\n",
    "    plt.scatter(curve[:, 0], curve[:, 1], marker=\".\", label=label)\n",
    "\n",
    "_ = plt.legend()"
   ]
  },
  {
   "cell_type": "markdown",
   "metadata": {},
   "source": [
    "As we can see on the plot, the curves we find give a reasonable segmentation of the plane, and each curve is part of a quadratic curve."
   ]
  },
  {
   "cell_type": "markdown",
   "metadata": {},
   "source": [
    "### 1.2 Mahalanobis distance (5 pts)\n",
    "For classes `a` and `b`, give the expression of the Mahalanobis distance used to classify a point in class `a` or `b`, and verify the obtained classification, in comparison with the \"complete\" Bayes classification, for a few points of the plane."
   ]
  },
  {
   "cell_type": "code",
   "execution_count": 7,
   "metadata": {},
   "outputs": [],
   "source": [
    "# Add your implementation and discussion"
   ]
  },
  {
   "cell_type": "markdown",
   "metadata": {},
   "source": [
    "---\n",
    "\n",
    "## Part 2\n",
    "In this part, we aim to classify digits using the complete version of MNIST digits dataset.\n",
    "The dataset consists of 60'000 training images and 10'000 test images of handwritten digits.\n",
    "Each image has size 28x28, and has assigned a label from zero to nine, denoting the digits value.\n",
    "Given this data, your task is to construct a Multilayer Perceptron (MLP) for supervised training and classification and evaluate it on the test images.\n",
    "\n",
    "Download the MNIST dataset (all 4 files) from http://yann.lecun.com/exdb/mnist/ under `lab-03-data/part2`.\n",
    "You can then use the script provided below to extract and load training and testing images in Python. \n",
    "\n",
    "**! Warning**: When the lab was created the official MNIST repo was down, if it is still the case please use https://github.com/mkolod/MNIST."
   ]
  },
  {
   "cell_type": "markdown",
   "metadata": {},
   "source": [
    "### 2.1 Dataset loading\n",
    "Here we first declare the methods `extract_data` and `extract_labels` so that we can reuse them later in the code.\n",
    "Then we extract both the data and corresponding labels, and plot randomly some images and corresponding labels of the training set."
   ]
  },
  {
   "cell_type": "code",
   "execution_count": 8,
   "metadata": {},
   "outputs": [],
   "source": [
    "import gzip\n",
    "import numpy as np\n",
    "import matplotlib.pyplot as plt\n",
    "\n",
    "def extract_data(filename, image_shape, image_number):\n",
    "    with gzip.open(filename) as bytestream:\n",
    "        bytestream.read(16)\n",
    "        buf = bytestream.read(np.prod(image_shape) * image_number)\n",
    "        data = np.frombuffer(buf, dtype=np.uint8).astype(np.float32)\n",
    "        data = data.reshape(image_number, image_shape[0], image_shape[1])\n",
    "    return data\n",
    "\n",
    "\n",
    "def extract_labels(filename, image_number):\n",
    "    with gzip.open(filename) as bytestream:\n",
    "        bytestream.read(8)\n",
    "        buf = bytestream.read(1 * image_number)\n",
    "        labels = np.frombuffer(buf, dtype=np.uint8).astype(np.int64)\n",
    "    return labels"
   ]
  },
  {
   "cell_type": "code",
   "execution_count": 9,
   "metadata": {},
   "outputs": [],
   "source": [
    "image_shape = (28, 28)\n",
    "train_set_size = 60000\n",
    "test_set_size = 10000\n",
    "\n",
    "data_part2_folder = os.path.join(data_base_path, data_folder, 'part2')\n",
    "\n",
    "train_images_path = os.path.join(data_part2_folder, 'train-images-idx3-ubyte.gz')\n",
    "train_labels_path = os.path.join(data_part2_folder, 'train-labels-idx1-ubyte.gz')\n",
    "test_images_path = os.path.join(data_part2_folder, 't10k-images-idx3-ubyte.gz')\n",
    "test_labels_path = os.path.join(data_part2_folder, 't10k-labels-idx1-ubyte.gz')\n",
    "\n",
    "train_images = extract_data(train_images_path, image_shape, train_set_size)\n",
    "test_images = extract_data(test_images_path, image_shape, test_set_size)\n",
    "train_labels = extract_labels(train_labels_path, train_set_size)\n",
    "test_labels = extract_labels(test_labels_path, test_set_size)"
   ]
  },
  {
   "cell_type": "code",
   "execution_count": 10,
   "metadata": {},
   "outputs": [
    {
     "data": {
      "image/png": "[encoded data removed]",
      "text/plain": [
       "<Figure size 864x216 with 10 Axes>"
      ]
     },
     "metadata": {
      "needs_background": "light"
     },
     "output_type": "display_data"
    }
   ],
   "source": [
    "prng = np.random.RandomState(seed=123456789)  # seed to always re-draw the same distribution\n",
    "plt_ind = prng.randint(low=0, high=train_set_size, size=10)\n",
    "\n",
    "fig, axes = plt.subplots(1, 10, figsize=(12, 3))\n",
    "for ax, im, lb in zip(axes, train_images[plt_ind], train_labels[plt_ind]):\n",
    "    ax.imshow(im, cmap='gray')\n",
    "    ax.axis('off')\n",
    "    ax.set_title(lb)"
   ]
  },
  {
   "cell_type": "markdown",
   "metadata": {},
   "source": [
    "### 2.2 MLP (10 pts)\n",
    "\n",
    "To create an MLP you are free to choose any library.\n",
    "In case you don't have any preferences, we encourage you to use the [scikit-learn] package; it is a simple, efficient and free tool for data analysis and machine learning.\n",
    "In this [link][sklearn-example], you can find a basic example to see how to create and train an MLP using [scikit-learn].\n",
    "Your network should have the following properties:\n",
    "* Input `x`: 784-dimensional (i.e. 784 visible units representing the flattened 28x28 pixel images).\n",
    "* 100 hidden units `h`.\n",
    "* 10 output units `y`, i.e. the labels, with a value close to one in the i-th class representing a high probability of the input representing the digit `i`.\n",
    "\n",
    "If you need additional examples you can borrow some code from image classification tutorials.\n",
    "However, we recommend that you construct a minimal version of the network on your own to gain better insights.\n",
    "\n",
    "[scikit-learn]: http://scikit-learn.org/stable/index.html\n",
    "[sklearn-example]: http://scikit-learn.org/stable/modules/neural_networks_supervised.html"
   ]
  },
  {
   "cell_type": "code",
   "execution_count": 11,
   "metadata": {},
   "outputs": [],
   "source": [
    "from sklearn.neural_network import MLPClassifier\n",
    "from sklearn.preprocessing import StandardScaler  \n",
    "from sklearn.metrics import classification_report\n",
    "from sklearn.model_selection import GridSearchCV,RandomizedSearchCV\n",
    "from sklearn.pipeline import Pipeline\n",
    "from sklearn.metrics import accuracy_score"
   ]
  },
  {
   "cell_type": "code",
   "execution_count": 12,
   "metadata": {},
   "outputs": [],
   "source": [
    "X_train = train_images.copy()\n",
    "X_test = test_images.copy()\n",
    "\n",
    "X_train = X_train.reshape(np.shape(X_train)[0], -1)\n",
    "X_test = X_test.reshape(np.shape(X_test)[0],-1)\n",
    "y_train = train_labels.copy()\n",
    "y_test = test_labels.copy()"
   ]
  },
  {
   "cell_type": "code",
   "execution_count": 13,
   "metadata": {},
   "outputs": [],
   "source": [
    "sc = StandardScaler()\n",
    "X_train = sc.fit_transform(X_train)\n",
    "# Careful ! Use train fit scalar on test\n",
    "X_test = sc.transform (X_test)"
   ]
  },
  {
   "cell_type": "markdown",
   "metadata": {},
   "source": [
    "Please note that due to time/computational constraints, hyper-parameters were not tuned.\n",
    "\n",
    "Several solvers were tested, including:\n",
    "- **adam**: Gradient-based optimization of stochastic objective functions, based on adaptive estimates of lower-order moments\n",
    "- **lbfgs**: limited memory quasi-Newton optimization \n",
    "- **sgd**: Stochastic gradient descent"
   ]
  },
  {
   "cell_type": "code",
   "execution_count": 14,
   "metadata": {},
   "outputs": [
    {
     "data": {
      "text/plain": [
       "MLPClassifier(random_state=999)"
      ]
     },
     "execution_count": 14,
     "metadata": {},
     "output_type": "execute_result"
    }
   ],
   "source": [
    "# Solver = Adam \n",
    "mlp_adam = MLPClassifier(hidden_layer_sizes=(100,), alpha=0.0001, solver= 'adam', random_state=999)\n",
    "mlp_adam.fit(X_train, y_train)"
   ]
  },
  {
   "cell_type": "code",
   "execution_count": 15,
   "metadata": {},
   "outputs": [
    {
     "name": "stdout",
     "output_type": "stream",
     "text": [
      "ADAM: Training accuracy score: 0.9885\n",
      "ADAM: Test accuracy score: 0.9666\n"
     ]
    }
   ],
   "source": [
    "\n",
    "print(f\"ADAM: Training accuracy score: {accuracy_score(mlp_adam.predict(X_train), y_train)}\")\n",
    "print(f\"ADAM: Test accuracy score: {accuracy_score(mlp_adam.predict(X_test), y_test)}\")\n"
   ]
  },
  {
   "cell_type": "code",
   "execution_count": 16,
   "metadata": {},
   "outputs": [
    {
     "data": {
      "text/plain": [
       "MLPClassifier(random_state=999, solver='lbfgs')"
      ]
     },
     "execution_count": 16,
     "metadata": {},
     "output_type": "execute_result"
    }
   ],
   "source": [
    "# Solver = lbfgs\n",
    "mlp_lbfgs = MLPClassifier(hidden_layer_sizes=(100,), alpha=0.0001, solver= 'lbfgs', random_state=999)\n",
    "mlp_lbfgs.fit(X_train, y_train)"
   ]
  },
  {
   "cell_type": "code",
   "execution_count": 17,
   "metadata": {},
   "outputs": [
    {
     "name": "stdout",
     "output_type": "stream",
     "text": [
      "LBFGS: Training accuracy score: 1.0\n",
      "LBFGS: Test accuracy score: 0.9716\n"
     ]
    }
   ],
   "source": [
    "\n",
    "print(f\"LBFGS: Training accuracy score: {accuracy_score(mlp_lbfgs.predict(X_train), y_train)}\")\n",
    "print(f\"LBFGS: Test accuracy score: {accuracy_score(mlp_lbfgs.predict(X_test), y_test)}\")\n"
   ]
  },
  {
   "cell_type": "code",
   "execution_count": 18,
   "metadata": {},
   "outputs": [
    {
     "name": "stderr",
     "output_type": "stream",
     "text": [
      "/home/lavinia/.local/share/virtualenvs/Image-analysis-and-pattern-recognition-BUhdA01C/lib/python3.8/site-packages/sklearn/neural_network/_multilayer_perceptron.py:692: ConvergenceWarning: Stochastic Optimizer: Maximum iterations (200) reached and the optimization hasn't converged yet.\n",
      "  warnings.warn(\n"
     ]
    },
    {
     "data": {
      "text/plain": [
       "MLPClassifier(random_state=999, solver='sgd')"
      ]
     },
     "execution_count": 18,
     "metadata": {},
     "output_type": "execute_result"
    }
   ],
   "source": [
    "# Solver = sgd\n",
    "mlp_sgd = MLPClassifier(hidden_layer_sizes=(100,), alpha=0.0001, solver= 'sgd', random_state=999)\n",
    "mlp_sgd.fit(X_train, y_train)"
   ]
  },
  {
   "cell_type": "code",
   "execution_count": 19,
   "metadata": {},
   "outputs": [
    {
     "name": "stdout",
     "output_type": "stream",
     "text": [
      "SGD: Training accuracy score: 0.9969166666666667\n",
      "SGD: Test accuracy score: 0.9738\n"
     ]
    }
   ],
   "source": [
    "\n",
    "print(f\"SGD: Training accuracy score: {accuracy_score(mlp_sgd.predict(X_train), y_train)}\")\n",
    "print(f\"SGD: Test accuracy score: {accuracy_score(mlp_sgd.predict(X_test), y_test)}\")\n"
   ]
  },
  {
   "cell_type": "markdown",
   "metadata": {},
   "source": [
    "All three solvers perform with an accuracy around 97% on the test set. The training scores above as it is the dataset on which the network is trained. Note that we have signs of overfitting with accuarcy that reach 100% for the LBFGS solver. \n",
    "\n",
    "\n",
    "### Where does the network innacurately perform \n",
    "\n",
    "Using the optimizer which performed best on the test set (in this instance), we take a deeper look into which digits were missclassified\n"
   ]
  },
  {
   "cell_type": "code",
   "execution_count": 20,
   "metadata": {},
   "outputs": [],
   "source": [
    "# Wrongly classified images\n",
    "import random\n",
    "\n",
    "random.seed(999)\n",
    "# Wrongly classified test set indexes\n",
    "missclass_image_id = np.where(mlp_sgd.predict(X_test)!= y_test)[0]\n",
    "# Pick 10 random images id of the wrongly classified ones\n",
    "random_10_wrong = random.choices(missclass_image_id, k = 10)"
   ]
  },
  {
   "cell_type": "code",
   "execution_count": 21,
   "metadata": {},
   "outputs": [],
   "source": [
    "# Compute the probabilities of the wrongly classified images \n",
    "random_10_proba = mlp_sgd.predict_proba(X_test)[random_10_wrong]"
   ]
  },
  {
   "cell_type": "code",
   "execution_count": 22,
   "metadata": {},
   "outputs": [
    {
     "data": {
      "image/png": "[encoded data removed]",
      "text/plain": [
       "<Figure size 2304x432 with 20 Axes>"
      ]
     },
     "metadata": {
      "needs_background": "light"
     },
     "output_type": "display_data"
    }
   ],
   "source": [
    "fig, axs = plt.subplots(2, 10, figsize=(32,6))\n",
    "ax = axs.ravel()\n",
    "\n",
    "\n",
    "for ind, image_id in enumerate(random_10_wrong):\n",
    "    ax[2*ind].imshow(test_images[image_id].reshape(28,28), cmap='gray') # Print initial image\n",
    "    ax[2*ind].axis('off')\n",
    "    ax[2*ind].set_title(f\"True: {y_test[image_id]}, Pred: {mlp_sgd.predict(X_test)[image_id]}\")\n",
    "    \n",
    "    width = 0.5\n",
    "    x_digits = np.arange(len(random_10_proba[0]))\n",
    "    ax[2*ind+1].barh(x_digits,random_10_proba[ind], width)\n",
    "    ax[2*ind+1].set_yticks(x_digits)\n",
    "    ax[2*ind+1].set_yticklabels(x_digits)\n",
    "    ax[2*ind+1].set_xlim(0,1)\n",
    "\n",
    "plt.show()\n",
    "    "
   ]
  },
  {
   "cell_type": "markdown",
   "metadata": {},
   "source": [
    "In the figure above, we look at the test digits in its initial state as well as the prediction probability vector. In the title we have the true label as well as the predicted one through the network.\n",
    "\n",
    "We note that some digits that to the eye seem obvious such as the top left-most zero is not a seven nor is it a three.\n",
    "Others such as the bottom right-most corner is predicted as seven with the highest probability with a human eye probability estiamted the same result. \n",
    "\n",
    "The network is not perfect but on top of its 97% accuarcy on the test set remains rather impressive. In order to increase this accuracy one should tune the hyper-parameters, proceed with some additional feature engineering as well as increase the network size. \n"
   ]
  },
  {
   "cell_type": "markdown",
   "metadata": {},
   "source": [
    "#### Extra \n",
    "If more time could be used to run the notebook, one could use GridSearchCV in order to tune the hyperparameters for a possibly better result \n",
    "\n"
   ]
  },
  {
   "cell_type": "code",
   "execution_count": 23,
   "metadata": {},
   "outputs": [],
   "source": [
    "RUN_extra = False\n",
    "\n",
    "if RUN_extra:\n",
    "\n",
    "    mlp = MLPClassifier(hidden_layer_sizes = (100,))\n",
    "    parameter_mlp = {\n",
    "        \"mlp__activation\": [\"logistic\",\"tanh\", \"relu\"],\n",
    "        \"mlp__solver\": [\"sgd\", \"adam\", \"lbfgs\"],\n",
    "        \"mlp__alpha\": 10.0**(-np.arange(1, 7))\n",
    "    }\n",
    "\n",
    "    # Define a Standard Scaler to normalize inputs\n",
    "    scaler = StandardScaler()\n",
    "    pipe = Pipeline(steps=[(\"scaler\", scaler), (\"mlp\", mlp)])\n",
    "    clf = RandomizedSearchCV(pipe, parameter_mlp, n_jobs=1, cv=2, verbose = 1)\n",
    "    clf.fit(X_train, y_train)\n",
    "\n",
    "\n",
    "\n",
    "    print('Best parameters found:\\n', clf.best_params_)\n",
    "    means = clf.cv_results_['mean_test_score']\n",
    "    stds = clf.cv_results_['std_test_score']\n",
    "    for mean, std, params in zip(means, stds, clf.cv_results_['params']):\n",
    "        print(\"%0.3f (+/-%0.03f) for %r\" % (mean, std * 2, params))\n",
    "\n",
    "    y_test_pred = clf.predict_proba(y_test)   \n",
    "    print(classification_report(y_test, y_test_pred))"
   ]
  },
  {
   "cell_type": "code",
   "execution_count": null,
   "metadata": {},
   "outputs": [],
   "source": []
  }
 ],
 "metadata": {
  "kernelspec": {
   "display_name": "iapr",
   "language": "python",
   "name": "iapr"
  },
  "language_info": {
   "codemirror_mode": {
    "name": "ipython",
    "version": 3
   },
   "file_extension": ".py",
   "mimetype": "text/x-python",
   "name": "python",
   "nbconvert_exporter": "python",
   "pygments_lexer": "ipython3",
   "version": "3.10.4"
  }
 },
 "nbformat": 4,
 "nbformat_minor": 4
}
